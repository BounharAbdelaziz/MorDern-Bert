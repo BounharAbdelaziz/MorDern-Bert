{
  "nbformat": 4,
  "nbformat_minor": 0,
  "metadata": {
    "colab": {
      "provenance": []
    },
    "kernelspec": {
      "name": "python3",
      "display_name": "Python 3"
    },
    "language_info": {
      "name": "python"
    }
  },
  "cells": [
    {
      "cell_type": "code",
      "execution_count": 1,
      "metadata": {
        "id": "8vdzip0M0web"
      },
      "outputs": [],
      "source": [
        "import wandb\n",
        "import torch\n",
        "from datasets import load_dataset\n",
        "from transformers import (\n",
        "    AutoTokenizer,\n",
        "    AutoModelForMaskedLM,\n",
        "    DataCollatorForLanguageModeling,\n",
        "    TrainingArguments,\n",
        "    Trainer\n",
        ")\n",
        "from dotenv import load_dotenv\n",
        "import os"
      ]
    },
    {
      "cell_type": "code",
      "source": [
        "def info(message):\n",
        "  print(\"=\"*30+f\"[INFO] {message}\"+\"=\"*30)"
      ],
      "metadata": {
        "id": "5f4OMeKc4lSu"
      },
      "execution_count": 2,
      "outputs": []
    },
    {
      "cell_type": "code",
      "source": [
        "load_dotenv()\n",
        "HF_READ_KEY=os.environ[\"HF_READ_KEY\"]\n",
        "DATASET_NAME=os.environ[\"DATASET_NAME\"]\n",
        "info(\"load dataset\")\n",
        "dataset=load_dataset(DATASET_NAME,token=HF_READ_KEY)\n",
        "info(\"dataset loaded!\")"
      ],
      "metadata": {
        "colab": {
          "base_uri": "https://localhost:8080/"
        },
        "id": "EstvwKjE2iTJ",
        "outputId": "abd783a5-cfc0-4e2e-9056-a814ececbcef"
      },
      "execution_count": 3,
      "outputs": [
        {
          "output_type": "stream",
          "name": "stdout",
          "text": [
            "==============================[INFO] load dataset==============================\n",
            "==============================[INFO] dataset loaded!==============================\n"
          ]
        }
      ]
    },
    {
      "cell_type": "code",
      "source": [
        "# prepare configs\n",
        "class Config:\n",
        "  def __init__(self):\n",
        "    self.model_name=\"answerdotai/ModernBERT-base\"\n",
        "    self.max_lenght=512\n",
        "    self.new_vocab_size=64000\n",
        "    self.mlm_probability=0.15 # Masked Language Proba (15% of input will be masked)\n",
        "    self.base_dir=\"./DarijaModern\"\n",
        "    self.output_dir=self.base_dir+\"/model\"\n",
        "    self.num_train_epochs=3\n",
        "    self.per_device_train_batch_size=32\n",
        "    self.per_device_eval_batch_size=8\n",
        "    self.evaluation_strategy=\"steps\"\n",
        "    self.eval_steps=5000\n",
        "    self.logging_steps=100\n",
        "    self.save_steps=5000\n",
        "    self.save_total_limit=2\n",
        "    self.learning_rate=5e-2\n",
        "    self.warmup_steps=500\n",
        "    self.weight_decay=0.01\n",
        "    self.report_to=\"wandb\"\n",
        "    self.run_name=\"modernbert-darija\"\n",
        "    self.overwrite_output_dir = True"
      ],
      "metadata": {
        "id": "sTEXzQ7h4lvh"
      },
      "execution_count": 4,
      "outputs": []
    },
    {
      "cell_type": "code",
      "source": [
        "configs=Config()"
      ],
      "metadata": {
        "id": "hQUVTw2w5PVF"
      },
      "execution_count": 5,
      "outputs": []
    },
    {
      "cell_type": "code",
      "source": [
        "# train darija tokenizer\n",
        "base_tokenizer=AutoTokenizer.from_pretrained(\n",
        "    \"answerdotai/ModernBERT-base\",\n",
        "    use_fast=True # Fast tokenizers are implemented in Rust and are significantly faster than the regular Python-based tokenizers.\n",
        ")"
      ],
      "metadata": {
        "colab": {
          "base_uri": "https://localhost:8080/"
        },
        "id": "ReJ87hFY9S7c",
        "outputId": "518d15f8-d2a3-4c6d-bcf0-bbad57df650a"
      },
      "execution_count": 6,
      "outputs": [
        {
          "output_type": "stream",
          "name": "stderr",
          "text": [
            "/usr/local/lib/python3.11/dist-packages/huggingface_hub/utils/_auth.py:94: UserWarning: \n",
            "The secret `HF_TOKEN` does not exist in your Colab secrets.\n",
            "To authenticate with the Hugging Face Hub, create a token in your settings tab (https://huggingface.co/settings/tokens), set it as secret in your Google Colab and restart your session.\n",
            "You will be able to reuse this secret in all of your notebooks.\n",
            "Please note that authentication is recommended but still optional to access public models or datasets.\n",
            "  warnings.warn(\n"
          ]
        }
      ]
    },
    {
      "cell_type": "code",
      "source": [
        "# dataset to iterator\n",
        "def batch_iter(ds,batch_size=1000):\n",
        "  for i in range(0,len(ds),batch_size):\n",
        "    yield ds[i:i+batch_size][\"text\"]"
      ],
      "metadata": {
        "id": "0O3Ba-aj-6Lx"
      },
      "execution_count": 7,
      "outputs": []
    },
    {
      "cell_type": "code",
      "source": [
        "info(\"train new Darija tokenizer\")\n",
        "train_iterator=batch_iter(dataset[\"train\"].select(range(16_000)))\n",
        "new_tokenizer=base_tokenizer.train_new_from_iterator(\n",
        "    text_iterator=train_iterator,\n",
        "    vocab_size=configs.new_vocab_size,\n",
        "    show_progress=True\n",
        ")\n",
        "info(\"Save new tokenizer...\")\n",
        "new_tokenizer.save_pretrained(f\"{configs.base_dir}/tokenizer\")\n",
        "info(\"new tokenizer saved...\")"
      ],
      "metadata": {
        "colab": {
          "base_uri": "https://localhost:8080/"
        },
        "id": "zNW_WQYO_Xp8",
        "outputId": "14e77bcb-4f6b-4465-c0e2-5d58a0378f36"
      },
      "execution_count": null,
      "outputs": [
        {
          "output_type": "stream",
          "name": "stdout",
          "text": [
            "==============================[INFO] train new Darija tokenizer==============================\n"
          ]
        }
      ]
    },
    {
      "cell_type": "code",
      "source": [
        "info(\"load new Darija tokenizer\")\n",
        "new_tokenizer=AutoTokenizer.from_pretrained(f\"{configs.base_dir}/tokenizer\",use_fast=True)"
      ],
      "metadata": {
        "id": "cj3mO96RBOo9"
      },
      "execution_count": null,
      "outputs": []
    },
    {
      "cell_type": "code",
      "source": [
        "def process(examples):\n",
        "  return new_tokenizer(\n",
        "      examples[\"train\"],\n",
        "      turncation=True,\n",
        "      max_length=configs.max_length)"
      ],
      "metadata": {
        "id": "shw9wMMBDYYh"
      },
      "execution_count": null,
      "outputs": []
    },
    {
      "cell_type": "code",
      "source": [
        "info(\"tokenize train/test dataset...\")\n",
        "train_dataset=dataset[\"train\"].map(\n",
        "    process,\n",
        "    batched=True,\n",
        "    remove_columns=dataset[\"train\"].column_names\n",
        ")\n",
        "test_dataset=dataset[\"test\"].map(\n",
        "    process,\n",
        "    batched=True,\n",
        "    remove_columns=dataset[\"test\"].column_names\n",
        ")\n",
        "info(\"Done!\")"
      ],
      "metadata": {
        "id": "GoeI2MvEEABj"
      },
      "execution_count": null,
      "outputs": []
    },
    {
      "cell_type": "code",
      "source": [
        "info(\"init data collator...\")\n",
        "data_collator=DataCollatorForLanguageModeling(\n",
        "    tokenizer=new_tokenizer,\n",
        "    mlm=True,\n",
        "    mlm_probability=configs.mlm_probability\n",
        ")"
      ],
      "metadata": {
        "id": "jwAbiTczEkCq"
      },
      "execution_count": null,
      "outputs": []
    },
    {
      "cell_type": "code",
      "source": [
        "info(\"load model...\")\n",
        "model=AutoModelForMaskedLM.pretrained(\n",
        "    configs.model_name\n",
        ")\n",
        "info(\"Done!\")"
      ],
      "metadata": {
        "id": "LvVJwNSNHxAO"
      },
      "execution_count": null,
      "outputs": []
    },
    {
      "cell_type": "code",
      "source": [
        "info(\"resize embedding matrix...\")\n",
        "model.resize_token_embeddings(configs.new_tokenizer_voca_size)\n",
        "info(\"Done!\")"
      ],
      "metadata": {
        "id": "hhKPL2dtIHdA"
      },
      "execution_count": null,
      "outputs": []
    },
    {
      "cell_type": "code",
      "source": [
        "info(\"init training args...\")\n",
        "training_args = TrainingArguments(\n",
        "    output_dir=configs.output_dir,\n",
        "    overwrite_output_dir=configs.overwrite_output_dir,\n",
        "    num_train_epochs=configs.num_train_epochs,\n",
        "    per_device_train_batch_size=configs.per_device_train_batch_size,\n",
        "    per_device_eval_batch_size=configs.per_device_eval_batch_size,\n",
        "    evaluation_strategy=configs.evaluation_strategy,\n",
        "    eval_steps=configs.eval_steps,\n",
        "    logging_steps=configs.logging_steps,\n",
        "    save_steps=configs.save_steps,\n",
        "    save_total_limit=configs.save_total_limit,\n",
        "    learning_rate=configs.learning_rate,\n",
        "    warmup_steps=configs.warmup_steps,\n",
        "    weight_decay=configs.weight_decay,\n",
        "    report_to=configs.report_to,\n",
        "    run_name=configs.run_name,\n",
        ")\n",
        "info(\"Done!\")"
      ],
      "metadata": {
        "id": "d0v8ZbThIZDA"
      },
      "execution_count": null,
      "outputs": []
    },
    {
      "cell_type": "code",
      "source": [
        "info(\"init trainer...\")\n",
        "trainer=Trainer(\n",
        "    model=model,\n",
        "    args=training_args,\n",
        "    train_dataset=train_dataset,\n",
        "    eval_dataset=test_dataset,\n",
        "    data_collator=data_collator\n",
        ")\n",
        "info(\"Done!\")"
      ],
      "metadata": {
        "id": "9ys68F4pI1l_"
      },
      "execution_count": null,
      "outputs": []
    },
    {
      "cell_type": "code",
      "source": [
        "info(\"trainer...\")\n",
        "trainer.train()"
      ],
      "metadata": {
        "id": "9uG9Da3qJY55"
      },
      "execution_count": null,
      "outputs": []
    },
    {
      "cell_type": "code",
      "source": [
        "info(\"save result model...\")\n",
        "trainer.save_model(configs.output_dir)\n",
        "new_tokenizer.save_pretrained(configs.output_dir)\n",
        "info(\"push result model to hub...\")\n",
        "trainer.push_to_hub(\"atlasia/modern-bert-darija\")"
      ],
      "metadata": {
        "id": "rNSpYrTeJfx7"
      },
      "execution_count": null,
      "outputs": []
    }
  ]
}